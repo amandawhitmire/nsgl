{
 "cells": [
  {
   "cell_type": "markdown",
   "id": "a0b1bd01-b476-4d91-bd80-e745b476b252",
   "metadata": {},
   "source": [
    "# National Sea Grant Library (NGSL) catalog metadata scrape - Oregon edition\n",
    "\n",
    "The intent here is to get a feel for how many of the NSGL catalog records for California have an associated PDF. The NGSL is closing it's physical space at the University of Rhode Island. I am trying to determine how much of the physical collection still needs to be digitized, and if I should accession the physical collection for safekeeping.\n",
    "\n",
    "----"
   ]
  },
  {
   "cell_type": "code",
   "execution_count": 30,
   "id": "285e3bbc-c7ef-4677-a9b1-f9b43b4e0640",
   "metadata": {},
   "outputs": [],
   "source": [
    "# import libraries we need \n",
    "\n",
    "import requests\n",
    "from bs4 import BeautifulSoup\n",
    "import pandas as pd\n",
    "import re\n",
    "import urllib.parse\n",
    "import time\n",
    "import datetime\n",
    "\n",
    "# If the Chrome browser is already on your system, you should just need to do\n",
    "# pip instal selenium\n",
    "# pip install webdriver-manager\n",
    "# to install the necessary packages.\n",
    "\n",
    "from selenium import webdriver\n",
    "from webdriver_manager.chrome import ChromeDriverManager\n",
    "from pandas.io.html import read_html\n",
    "from selenium.webdriver.common.action_chains import ActionChains\n",
    "from selenium.webdriver.chrome.options import Options\n",
    "from urllib.parse import urlparse\n",
    "from selenium.common.exceptions import NoSuchElementException\n",
    "from selenium.common.exceptions import NoSuchWindowException\n"
   ]
  },
  {
   "cell_type": "markdown",
   "id": "3cca5999-da1b-4e36-9dfb-8d35c90741ff",
   "metadata": {
    "tags": []
   },
   "source": [
    "### This section will save an HTML file for each page of 100 catalog search results. The search was:\n",
    "\n",
    "Word(s): [“Washington” and “sea grant”]\n",
    "\n",
    "which resulted in 3,153 results at 100 results per page."
   ]
  },
  {
   "cell_type": "code",
   "execution_count": 31,
   "id": "fee675c5",
   "metadata": {},
   "outputs": [
    {
     "name": "stderr",
     "output_type": "stream",
     "text": [
      "[WDM] - Downloading: 100%|██████████| 7.82M/7.82M [00:00<00:00, 66.3MB/s]\n"
     ]
    }
   ],
   "source": [
    "# This should fire up the headless Chrome browser in another window\n",
    "driver = webdriver.Chrome(ChromeDriverManager().install())\n",
    "driver.implicitly_wait(2) # Crude way to ensure the page has (mostly) loaded before doing anything else."
   ]
  },
  {
   "cell_type": "code",
   "execution_count": 33,
   "id": "e2c5c827-4ab3-4e3b-9992-7cad77d613f9",
   "metadata": {},
   "outputs": [],
   "source": [
    "total_pages = 32\n",
    "current_page = 1\n",
    "\n",
    "# url = 'https://eos.ucs.uri.edu/EOSWebOPAC/OPAC/Search/AdvancedSearch.aspx?TaskCode=737107&TitleListPageSize=100&CatLevel0Value=&CatLevel1Value=&CatLevel2Value=&CatLevel3Value=&CatLevel4Value='\n",
    "# url= 'https://eos.ucs.uri.edu/EOSWebOPAC/OPAC/Search/AdvancedSearch.aspx?TaskCode=820219&TitleListPageSize=100&CatLevel0Value=&CatLevel1Value=&CatLevel2Value=&CatLevel3Value=&CatLevel4Value='\n",
    "\n",
    "url = 'https://eos.ucs.uri.edu/EOSWebOPAC/OPAC/Search/AdvancedSearch.aspx?TaskCode=828295&TitleListPageSize=100&CatLevel0Value=&CatLevel1Value=&CatLevel2Value=&CatLevel3Value=&CatLevel4Value='\n",
    "driver.get(url)\n",
    "for current_page in range(1,total_pages+1):\n",
    "    grab = driver.page_source\n",
    "\n",
    "    # Zero-pad the search page number (2 digits minimum) when writing the page source\n",
    "    with open(f\"wa_search_results_page_{current_page:02}.html\", \"w\") as outfile:\n",
    "        outfile.write(grab)\n",
    "\n",
    "    next_button = driver.find_element_by_name(\"ctl00$webopacContentHolder$SearchTitleListControl$titleListNav1$arrowRight\")\n",
    "    if next_button is not None:\n",
    "        time.sleep(3) # to be polite\n",
    "        next_button.click()"
   ]
  },
  {
   "cell_type": "code",
   "execution_count": 34,
   "id": "3b4f0f6b",
   "metadata": {},
   "outputs": [],
   "source": [
    "# Gracefully shut down the headless browser\n",
    "driver.close()"
   ]
  },
  {
   "cell_type": "markdown",
   "id": "70267001-864d-4bb2-bf4b-91fd3f0329f1",
   "metadata": {},
   "source": [
    "---\n",
    "## Now sort through the scraped results pages to obtain an identifier for each item. With that in hand, scrape additional metadata and any associated files for each record. \n",
    "\n",
    "---"
   ]
  },
  {
   "cell_type": "code",
   "execution_count": 35,
   "id": "88bc931e-1dc8-4fc2-9065-b71812bbeead",
   "metadata": {},
   "outputs": [],
   "source": [
    "#io is used for opening and writing files\n",
    "import io\n",
    "\n",
    "#glob is used to find all the pathnames matching a specified pattern (here, all text files)\n",
    "import glob\n",
    "\n",
    "#os is used to navigate your folder directories (e.g. change folders to where you files are stored)\n",
    "import os"
   ]
  },
  {
   "cell_type": "code",
   "execution_count": 36,
   "id": "e03aeba3-4bc3-4561-9533-1eb9e2be4395",
   "metadata": {},
   "outputs": [],
   "source": [
    "#Define the file directory here\n",
    "filedirectory = '/Users/thalassa/github/nsgl/pages-searchResults_WA'\n",
    "\n",
    "#Change the working directory to the one you just defined\n",
    "os.chdir(filedirectory)"
   ]
  },
  {
   "cell_type": "code",
   "execution_count": 37,
   "id": "902c3164-2459-4525-bbd7-8515087d6b26",
   "metadata": {},
   "outputs": [
    {
     "name": "stdout",
     "output_type": "stream",
     "text": [
      "['wa_search_results_page_06.html', 'wa_search_results_page_10.html', 'wa_search_results_page_30.html', 'wa_search_results_page_26.html', 'wa_search_results_page_27.html', 'wa_search_results_page_31.html', 'wa_search_results_page_11.html', 'wa_search_results_page_07.html', 'wa_search_results_page_20.html', 'wa_search_results_page_16.html', 'wa_search_results_page_17.html', 'wa_search_results_page_01.html', 'wa_search_results_page_21.html', 'wa_search_results_page_22.html', 'wa_search_results_page_18.html', 'wa_search_results_page_14.html', 'wa_search_results_page_02.html', 'wa_search_results_page_03.html', 'wa_search_results_page_15.html', 'wa_search_results_page_19.html', 'wa_search_results_page_23.html', 'wa_search_results_page_28.html', 'wa_search_results_page_12.html', 'wa_search_results_page_04.html', 'wa_search_results_page_24.html', 'wa_search_results_page_32.html', 'wa_search_results_page_08.html', 'wa_search_results_page_09.html', 'wa_search_results_page_25.html', 'wa_search_results_page_05.html', 'wa_search_results_page_13.html', 'wa_search_results_page_29.html']\n"
     ]
    }
   ],
   "source": [
    "print(os.listdir(filedirectory))"
   ]
  },
  {
   "cell_type": "code",
   "execution_count": 38,
   "id": "83fc93c3-a451-4a8c-a748-fa81c0daa718",
   "metadata": {},
   "outputs": [
    {
     "name": "stdout",
     "output_type": "stream",
     "text": [
      "Finished at 2022-12-07 16:47:56.353106, total time 0.08333333333333333 minutes.\n"
     ]
    }
   ],
   "source": [
    "#Sort all the files in the directory you specified above, alphabetically.\n",
    "\n",
    "start = datetime.datetime.utcnow()\n",
    "\n",
    "#For each of those files...\n",
    "for filename in sorted(os.listdir(filedirectory)):\n",
    "    #If the filename ends with .html (i.e. if it's actually a text files)\n",
    "    if filename.endswith('.html'):\n",
    "        #The file name of the output file adds _data to the end of the file name of the input file\n",
    "        outfilename = filename.replace('.html', '_data.txt')\n",
    "        #Open the infput filename\n",
    "        with open(filename, 'r') as f:\n",
    "            #Create and open the output filename\n",
    "            with open(outfilename, 'w') as out:\n",
    "                soup = BeautifulSoup(f, \"html.parser\")\n",
    "                records = str(soup.find_all(href=re.compile(\"javascript:ViewNewCompleteDisplayRecord\")))\n",
    "                ids = re.findall(r'[A-Z]*\\|[0-9]*\\|[0-9]*\\|[0-9]*',records)\n",
    "                for element in ids:\n",
    "                    out.write(element + \"\\n\")\n",
    "                out.close()\n",
    "                \n",
    "end = datetime.datetime.utcnow()\n",
    "print(f\"Finished at {end}, total time {(end-start).seconds / 60.} minutes.\")\n"
   ]
  },
  {
   "cell_type": "code",
   "execution_count": 39,
   "id": "730171ce-b0db-45e6-8045-2c3103097ac9",
   "metadata": {},
   "outputs": [],
   "source": [
    "# merge all of the recrods ids into one file\n",
    "read_files = glob.glob(\"*.txt\")\n",
    "\n",
    "with open(\"seagrant-wa-ids.txt\", \"wb\") as outfile:\n",
    "    for f in read_files:\n",
    "        with open(f, \"rb\") as infile:\n",
    "            outfile.write(infile.read())"
   ]
  },
  {
   "cell_type": "markdown",
   "id": "d815a99a",
   "metadata": {},
   "source": [
    "## Now we want to parse the IDs to get the information we need to build the URLs to fetch the data\n",
    "\n",
    "E.g., EOSMAIN|5393927|10|2696314\n",
    "\n",
    "Is a link like this: https://eos.ucs.uri.edu/EOSWebOPAC/OPAC/Details/Record.aspx?BibCode=EOSMAIN%7C5393927%7C10%7C2696314"
   ]
  },
  {
   "cell_type": "code",
   "execution_count": 49,
   "id": "c8cfdb78",
   "metadata": {},
   "outputs": [
    {
     "name": "stdout",
     "output_type": "stream",
     "text": [
      "['EOSMAIN|5368798|2601|2819638', 'EOSMAIN|5368753|2602|2819639', 'EOSMAIN|5368721|2603|2819640', 'EOSMAIN|5365719|2604|2819641', 'EOSMAIN|5365258|2605|2819642', 'EOSMAIN|5364600|2606|2819643', 'EOSMAIN|5364555|2607|2819644', 'EOSMAIN|5364511|2608|2819645', 'EOSMAIN|5364455|2609|2819646', 'EOSMAIN|5364434|2610|2819647']\n"
     ]
    }
   ],
   "source": [
    "#Define the file directory here\n",
    "filedirectory = '/Users/thalassa/github/nsgl'\n",
    "\n",
    "#Change the working directory to the one you just defined\n",
    "os.chdir(filedirectory)\n",
    "\n",
    "# Open the text file with the item IDs in it, create a list\n",
    "f = open(\"seagrant-wa-ids.txt\",'r')\n",
    "ids = f.read().split(\"\\n\")\n",
    "print(ids[0:10])"
   ]
  },
  {
   "cell_type": "code",
   "execution_count": 50,
   "id": "d6d4be70",
   "metadata": {},
   "outputs": [
    {
     "data": {
      "text/plain": [
       "<bound method NDFrame.head of       eosmain      id1   id2      id3\n",
       "0     EOSMAIN  5368798  2601  2819638\n",
       "1     EOSMAIN  5368753  2602  2819639\n",
       "2     EOSMAIN  5368721  2603  2819640\n",
       "3     EOSMAIN  5365719  2604  2819641\n",
       "4     EOSMAIN  5365258  2605  2819642\n",
       "...       ...      ...   ...      ...\n",
       "3148  EOSMAIN  5216989    96  2817133\n",
       "3149  EOSMAIN  5576611    97  2817134\n",
       "3150  EOSMAIN  5176197    98  2817135\n",
       "3151  EOSMAIN  5967931    99  2817136\n",
       "3152  EOSMAIN  5222178   100  2817137\n",
       "\n",
       "[3153 rows x 4 columns]>"
      ]
     },
     "execution_count": 50,
     "metadata": {},
     "output_type": "execute_result"
    }
   ],
   "source": [
    "# Open text file and create a dataframe\n",
    "data = pd.read_csv(\"seagrant-wa-ids.txt\",sep=\"|\",names=[\"eosmain\",\"id1\",\"id2\",\"id3\"])\n",
    "data.head"
   ]
  },
  {
   "cell_type": "code",
   "execution_count": 51,
   "id": "3e653002",
   "metadata": {},
   "outputs": [],
   "source": [
    "# create a list of URLs with the ID info as another column in the 'data' dataframe\n",
    "data['url'] = 'https://eos.ucs.uri.edu/EOSWebOPAC/OPAC/Details/Record.aspx?BibCode=EOSMAIN%7C' + data['id1'].astype(str) + '%7C' + data['id2'].astype(str) + '%7C' + data['id3'].astype(str)"
   ]
  },
  {
   "cell_type": "code",
   "execution_count": 52,
   "id": "35d515cf",
   "metadata": {},
   "outputs": [
    {
     "data": {
      "text/plain": [
       "'https://eos.ucs.uri.edu/EOSWebOPAC/OPAC/Details/Record.aspx?BibCode=EOSMAIN%7C5368798%7C2601%7C2819638'"
      ]
     },
     "execution_count": 52,
     "metadata": {},
     "output_type": "execute_result"
    }
   ],
   "source": [
    "# Show one URL \n",
    "data['url'][0]"
   ]
  },
  {
   "cell_type": "markdown",
   "id": "1c08ef2b",
   "metadata": {},
   "source": [
    "## Now we can launch the ChromeDriver, use the links we generated in the previous steps to visit each catalog record, scrape the catalog metadata and PDF files from the records.\n",
    "\n",
    "The steps are:\n",
    "- load catalog record from list of URLs\n",
    "- find metadata table, read it, save to CSV file\n",
    "- see if PDF links exist\n",
    "- grab pdf links, iterate through and download each one"
   ]
  },
  {
   "cell_type": "code",
   "execution_count": 53,
   "id": "49f4694a",
   "metadata": {},
   "outputs": [],
   "source": [
    "# This should fire up the headless Chrome browser in another window\n",
    "driver = webdriver.Chrome(ChromeDriverManager().install())\n",
    "driver.implicitly_wait(2) # Crude way to ensure the page has (mostly) loaded before doing anything else."
   ]
  },
  {
   "cell_type": "code",
   "execution_count": 55,
   "id": "4fdc768b",
   "metadata": {},
   "outputs": [],
   "source": [
    "url = data['url'][1]\n",
    "driver.get(url)\n",
    "# canclick = driver.find_element_by_xpath('//*[@id=\"MediaListRepeater_ctl00_MediaHyperLink\"]').get_attribute('onclick')\n",
    "# print(canclick)"
   ]
  },
  {
   "cell_type": "code",
   "execution_count": 56,
   "id": "d9a16171",
   "metadata": {},
   "outputs": [
    {
     "ename": "KeyError",
     "evalue": "3153",
     "output_type": "error",
     "traceback": [
      "\u001b[0;31m---------------------------------------------------------------------------\u001b[0m",
      "\u001b[0;31mValueError\u001b[0m                                Traceback (most recent call last)",
      "File \u001b[0;32m~/miniconda3/lib/python3.9/site-packages/pandas/core/indexes/range.py:391\u001b[0m, in \u001b[0;36mRangeIndex.get_loc\u001b[0;34m(self, key, method, tolerance)\u001b[0m\n\u001b[1;32m    390\u001b[0m \u001b[38;5;28;01mtry\u001b[39;00m:\n\u001b[0;32m--> 391\u001b[0m     \u001b[38;5;28;01mreturn\u001b[39;00m \u001b[38;5;28;43mself\u001b[39;49m\u001b[38;5;241;43m.\u001b[39;49m\u001b[43m_range\u001b[49m\u001b[38;5;241;43m.\u001b[39;49m\u001b[43mindex\u001b[49m\u001b[43m(\u001b[49m\u001b[43mnew_key\u001b[49m\u001b[43m)\u001b[49m\n\u001b[1;32m    392\u001b[0m \u001b[38;5;28;01mexcept\u001b[39;00m \u001b[38;5;167;01mValueError\u001b[39;00m \u001b[38;5;28;01mas\u001b[39;00m err:\n",
      "\u001b[0;31mValueError\u001b[0m: 3153 is not in range",
      "\nThe above exception was the direct cause of the following exception:\n",
      "\u001b[0;31mKeyError\u001b[0m                                  Traceback (most recent call last)",
      "Cell \u001b[0;32mIn [56], line 9\u001b[0m\n\u001b[1;32m      6\u001b[0m outfilename \u001b[38;5;241m=\u001b[39m data[\u001b[38;5;124m'\u001b[39m\u001b[38;5;124mid1\u001b[39m\u001b[38;5;124m'\u001b[39m]\u001b[38;5;241m.\u001b[39mastype(\u001b[38;5;28mstr\u001b[39m) \u001b[38;5;241m+\u001b[39m \u001b[38;5;124m\"\u001b[39m\u001b[38;5;124m_\u001b[39m\u001b[38;5;124m\"\u001b[39m \u001b[38;5;241m+\u001b[39m data[\u001b[38;5;124m'\u001b[39m\u001b[38;5;124mid2\u001b[39m\u001b[38;5;124m'\u001b[39m]\u001b[38;5;241m.\u001b[39mastype(\u001b[38;5;28mstr\u001b[39m) \u001b[38;5;241m+\u001b[39m \u001b[38;5;124m\"\u001b[39m\u001b[38;5;124m_\u001b[39m\u001b[38;5;124m\"\u001b[39m \u001b[38;5;241m+\u001b[39m data[\u001b[38;5;124m'\u001b[39m\u001b[38;5;124mid3\u001b[39m\u001b[38;5;124m'\u001b[39m]\u001b[38;5;241m.\u001b[39mastype(\u001b[38;5;28mstr\u001b[39m) \u001b[38;5;241m+\u001b[39m \u001b[38;5;124m\"\u001b[39m\u001b[38;5;124m.csv\u001b[39m\u001b[38;5;124m\"\u001b[39m\n\u001b[1;32m      8\u001b[0m \u001b[38;5;28;01mfor\u001b[39;00m current_item \u001b[38;5;129;01min\u001b[39;00m \u001b[38;5;28mrange\u001b[39m(current_item,total_items\u001b[38;5;241m+\u001b[39m\u001b[38;5;241m1\u001b[39m):\n\u001b[0;32m----> 9\u001b[0m     item_url \u001b[38;5;241m=\u001b[39m \u001b[43mdata\u001b[49m\u001b[43m[\u001b[49m\u001b[38;5;124;43m'\u001b[39;49m\u001b[38;5;124;43murl\u001b[39;49m\u001b[38;5;124;43m'\u001b[39;49m\u001b[43m]\u001b[49m\u001b[43m[\u001b[49m\u001b[43mcurrent_item\u001b[49m\u001b[43m]\u001b[49m\n\u001b[1;32m     11\u001b[0m     driver\u001b[38;5;241m.\u001b[39mget(item_url)\n\u001b[1;32m     13\u001b[0m     \u001b[38;5;28;01mtry\u001b[39;00m: \n",
      "File \u001b[0;32m~/miniconda3/lib/python3.9/site-packages/pandas/core/series.py:981\u001b[0m, in \u001b[0;36mSeries.__getitem__\u001b[0;34m(self, key)\u001b[0m\n\u001b[1;32m    978\u001b[0m     \u001b[38;5;28;01mreturn\u001b[39;00m \u001b[38;5;28mself\u001b[39m\u001b[38;5;241m.\u001b[39m_values[key]\n\u001b[1;32m    980\u001b[0m \u001b[38;5;28;01melif\u001b[39;00m key_is_scalar:\n\u001b[0;32m--> 981\u001b[0m     \u001b[38;5;28;01mreturn\u001b[39;00m \u001b[38;5;28;43mself\u001b[39;49m\u001b[38;5;241;43m.\u001b[39;49m\u001b[43m_get_value\u001b[49m\u001b[43m(\u001b[49m\u001b[43mkey\u001b[49m\u001b[43m)\u001b[49m\n\u001b[1;32m    983\u001b[0m \u001b[38;5;28;01mif\u001b[39;00m is_hashable(key):\n\u001b[1;32m    984\u001b[0m     \u001b[38;5;66;03m# Otherwise index.get_value will raise InvalidIndexError\u001b[39;00m\n\u001b[1;32m    985\u001b[0m     \u001b[38;5;28;01mtry\u001b[39;00m:\n\u001b[1;32m    986\u001b[0m         \u001b[38;5;66;03m# For labels that don't resolve as scalars like tuples and frozensets\u001b[39;00m\n",
      "File \u001b[0;32m~/miniconda3/lib/python3.9/site-packages/pandas/core/series.py:1089\u001b[0m, in \u001b[0;36mSeries._get_value\u001b[0;34m(self, label, takeable)\u001b[0m\n\u001b[1;32m   1086\u001b[0m     \u001b[38;5;28;01mreturn\u001b[39;00m \u001b[38;5;28mself\u001b[39m\u001b[38;5;241m.\u001b[39m_values[label]\n\u001b[1;32m   1088\u001b[0m \u001b[38;5;66;03m# Similar to Index.get_value, but we do not fall back to positional\u001b[39;00m\n\u001b[0;32m-> 1089\u001b[0m loc \u001b[38;5;241m=\u001b[39m \u001b[38;5;28;43mself\u001b[39;49m\u001b[38;5;241;43m.\u001b[39;49m\u001b[43mindex\u001b[49m\u001b[38;5;241;43m.\u001b[39;49m\u001b[43mget_loc\u001b[49m\u001b[43m(\u001b[49m\u001b[43mlabel\u001b[49m\u001b[43m)\u001b[49m\n\u001b[1;32m   1090\u001b[0m \u001b[38;5;28;01mreturn\u001b[39;00m \u001b[38;5;28mself\u001b[39m\u001b[38;5;241m.\u001b[39mindex\u001b[38;5;241m.\u001b[39m_get_values_for_loc(\u001b[38;5;28mself\u001b[39m, loc, label)\n",
      "File \u001b[0;32m~/miniconda3/lib/python3.9/site-packages/pandas/core/indexes/range.py:393\u001b[0m, in \u001b[0;36mRangeIndex.get_loc\u001b[0;34m(self, key, method, tolerance)\u001b[0m\n\u001b[1;32m    391\u001b[0m         \u001b[38;5;28;01mreturn\u001b[39;00m \u001b[38;5;28mself\u001b[39m\u001b[38;5;241m.\u001b[39m_range\u001b[38;5;241m.\u001b[39mindex(new_key)\n\u001b[1;32m    392\u001b[0m     \u001b[38;5;28;01mexcept\u001b[39;00m \u001b[38;5;167;01mValueError\u001b[39;00m \u001b[38;5;28;01mas\u001b[39;00m err:\n\u001b[0;32m--> 393\u001b[0m         \u001b[38;5;28;01mraise\u001b[39;00m \u001b[38;5;167;01mKeyError\u001b[39;00m(key) \u001b[38;5;28;01mfrom\u001b[39;00m \u001b[38;5;21;01merr\u001b[39;00m\n\u001b[1;32m    394\u001b[0m \u001b[38;5;28mself\u001b[39m\u001b[38;5;241m.\u001b[39m_check_indexing_error(key)\n\u001b[1;32m    395\u001b[0m \u001b[38;5;28;01mraise\u001b[39;00m \u001b[38;5;167;01mKeyError\u001b[39;00m(key)\n",
      "\u001b[0;31mKeyError\u001b[0m: 3153"
     ]
    }
   ],
   "source": [
    "# Loop through number of URLs in data DataFrame\n",
    "total_items = len(data)\n",
    "current_item = 1\n",
    "\n",
    "#set up filenames for CSV files\n",
    "outfilename = data['id1'].astype(str) + \"_\" + data['id2'].astype(str) + \"_\" + data['id3'].astype(str) + \".csv\"\n",
    "\n",
    "for current_item in range(current_item,total_items+1):\n",
    "    item_url = data['url'][current_item]\n",
    "\n",
    "    driver.get(item_url)\n",
    "    \n",
    "    try: \n",
    "        table = driver.find_element_by_xpath('//*[@id=\"wrapper\"]/div[2]/div/div/table/tbody/tr/td[2]')\n",
    "    except NoSuchElementException as exception:\n",
    "        # pass\n",
    "        # print(\"Element Exception Skipped\")\n",
    "        continue \n",
    "        \n",
    "    table_html = table.get_attribute('innerHTML')\n",
    "    df = read_html(table_html)[0]\n",
    "        \n",
    "    # Save metadata to a CSV file, only the relevant columns\n",
    "    df.to_csv(outfilename[current_item],',',columns=[1,2],header=[\"MetadataField\",\"Metadata\"])\n"
   ]
  },
  {
   "cell_type": "code",
   "execution_count": 57,
   "id": "b35d6ee1-b429-4193-b3b9-be2e63fa2211",
   "metadata": {},
   "outputs": [
    {
     "name": "stdout",
     "output_type": "stream",
     "text": [
      "3153\n"
     ]
    },
    {
     "ename": "KeyError",
     "evalue": "3153",
     "output_type": "error",
     "traceback": [
      "\u001b[0;31m---------------------------------------------------------------------------\u001b[0m",
      "\u001b[0;31mValueError\u001b[0m                                Traceback (most recent call last)",
      "File \u001b[0;32m~/miniconda3/lib/python3.9/site-packages/pandas/core/indexes/range.py:391\u001b[0m, in \u001b[0;36mRangeIndex.get_loc\u001b[0;34m(self, key, method, tolerance)\u001b[0m\n\u001b[1;32m    390\u001b[0m \u001b[38;5;28;01mtry\u001b[39;00m:\n\u001b[0;32m--> 391\u001b[0m     \u001b[38;5;28;01mreturn\u001b[39;00m \u001b[38;5;28;43mself\u001b[39;49m\u001b[38;5;241;43m.\u001b[39;49m\u001b[43m_range\u001b[49m\u001b[38;5;241;43m.\u001b[39;49m\u001b[43mindex\u001b[49m\u001b[43m(\u001b[49m\u001b[43mnew_key\u001b[49m\u001b[43m)\u001b[49m\n\u001b[1;32m    392\u001b[0m \u001b[38;5;28;01mexcept\u001b[39;00m \u001b[38;5;167;01mValueError\u001b[39;00m \u001b[38;5;28;01mas\u001b[39;00m err:\n",
      "\u001b[0;31mValueError\u001b[0m: 3153 is not in range",
      "\nThe above exception was the direct cause of the following exception:\n",
      "\u001b[0;31mKeyError\u001b[0m                                  Traceback (most recent call last)",
      "Cell \u001b[0;32mIn [57], line 6\u001b[0m\n\u001b[1;32m      4\u001b[0m \u001b[38;5;28mprint\u001b[39m(current_item)\n\u001b[1;32m      5\u001b[0m \u001b[38;5;66;03m#print(data[277])\u001b[39;00m\n\u001b[0;32m----> 6\u001b[0m \u001b[38;5;28mprint\u001b[39m(\u001b[43mdata\u001b[49m\u001b[43m[\u001b[49m\u001b[38;5;124;43m'\u001b[39;49m\u001b[38;5;124;43murl\u001b[39;49m\u001b[38;5;124;43m'\u001b[39;49m\u001b[43m]\u001b[49m\u001b[43m[\u001b[49m\u001b[43mcurrent_item\u001b[49m\u001b[43m]\u001b[49m)\n",
      "File \u001b[0;32m~/miniconda3/lib/python3.9/site-packages/pandas/core/series.py:981\u001b[0m, in \u001b[0;36mSeries.__getitem__\u001b[0;34m(self, key)\u001b[0m\n\u001b[1;32m    978\u001b[0m     \u001b[38;5;28;01mreturn\u001b[39;00m \u001b[38;5;28mself\u001b[39m\u001b[38;5;241m.\u001b[39m_values[key]\n\u001b[1;32m    980\u001b[0m \u001b[38;5;28;01melif\u001b[39;00m key_is_scalar:\n\u001b[0;32m--> 981\u001b[0m     \u001b[38;5;28;01mreturn\u001b[39;00m \u001b[38;5;28;43mself\u001b[39;49m\u001b[38;5;241;43m.\u001b[39;49m\u001b[43m_get_value\u001b[49m\u001b[43m(\u001b[49m\u001b[43mkey\u001b[49m\u001b[43m)\u001b[49m\n\u001b[1;32m    983\u001b[0m \u001b[38;5;28;01mif\u001b[39;00m is_hashable(key):\n\u001b[1;32m    984\u001b[0m     \u001b[38;5;66;03m# Otherwise index.get_value will raise InvalidIndexError\u001b[39;00m\n\u001b[1;32m    985\u001b[0m     \u001b[38;5;28;01mtry\u001b[39;00m:\n\u001b[1;32m    986\u001b[0m         \u001b[38;5;66;03m# For labels that don't resolve as scalars like tuples and frozensets\u001b[39;00m\n",
      "File \u001b[0;32m~/miniconda3/lib/python3.9/site-packages/pandas/core/series.py:1089\u001b[0m, in \u001b[0;36mSeries._get_value\u001b[0;34m(self, label, takeable)\u001b[0m\n\u001b[1;32m   1086\u001b[0m     \u001b[38;5;28;01mreturn\u001b[39;00m \u001b[38;5;28mself\u001b[39m\u001b[38;5;241m.\u001b[39m_values[label]\n\u001b[1;32m   1088\u001b[0m \u001b[38;5;66;03m# Similar to Index.get_value, but we do not fall back to positional\u001b[39;00m\n\u001b[0;32m-> 1089\u001b[0m loc \u001b[38;5;241m=\u001b[39m \u001b[38;5;28;43mself\u001b[39;49m\u001b[38;5;241;43m.\u001b[39;49m\u001b[43mindex\u001b[49m\u001b[38;5;241;43m.\u001b[39;49m\u001b[43mget_loc\u001b[49m\u001b[43m(\u001b[49m\u001b[43mlabel\u001b[49m\u001b[43m)\u001b[49m\n\u001b[1;32m   1090\u001b[0m \u001b[38;5;28;01mreturn\u001b[39;00m \u001b[38;5;28mself\u001b[39m\u001b[38;5;241m.\u001b[39mindex\u001b[38;5;241m.\u001b[39m_get_values_for_loc(\u001b[38;5;28mself\u001b[39m, loc, label)\n",
      "File \u001b[0;32m~/miniconda3/lib/python3.9/site-packages/pandas/core/indexes/range.py:393\u001b[0m, in \u001b[0;36mRangeIndex.get_loc\u001b[0;34m(self, key, method, tolerance)\u001b[0m\n\u001b[1;32m    391\u001b[0m         \u001b[38;5;28;01mreturn\u001b[39;00m \u001b[38;5;28mself\u001b[39m\u001b[38;5;241m.\u001b[39m_range\u001b[38;5;241m.\u001b[39mindex(new_key)\n\u001b[1;32m    392\u001b[0m     \u001b[38;5;28;01mexcept\u001b[39;00m \u001b[38;5;167;01mValueError\u001b[39;00m \u001b[38;5;28;01mas\u001b[39;00m err:\n\u001b[0;32m--> 393\u001b[0m         \u001b[38;5;28;01mraise\u001b[39;00m \u001b[38;5;167;01mKeyError\u001b[39;00m(key) \u001b[38;5;28;01mfrom\u001b[39;00m \u001b[38;5;21;01merr\u001b[39;00m\n\u001b[1;32m    394\u001b[0m \u001b[38;5;28mself\u001b[39m\u001b[38;5;241m.\u001b[39m_check_indexing_error(key)\n\u001b[1;32m    395\u001b[0m \u001b[38;5;28;01mraise\u001b[39;00m \u001b[38;5;167;01mKeyError\u001b[39;00m(key)\n",
      "\u001b[0;31mKeyError\u001b[0m: 3153"
     ]
    }
   ],
   "source": [
    "# If the loop above hits an error, you can run this chunk to see what record you are on, update the starting record in the loop, \n",
    "# and get it going again. You may have to restart the ChromeDriver \n",
    "\n",
    "print(current_item)\n",
    "#print(data[277])\n",
    "print(data['url'][current_item])\n"
   ]
  },
  {
   "cell_type": "markdown",
   "id": "f4510671-ddfd-4c85-9ffb-c9a14305da5f",
   "metadata": {},
   "source": [
    "I used the code below to try to download PDFs from item records in the NSGL catalog. It failed alot b/c their catalog is ... dated. "
   ]
  },
  {
   "cell_type": "code",
   "execution_count": null,
   "id": "a7071d23-a46f-4af3-8b91-362f2fb7b765",
   "metadata": {},
   "outputs": [],
   "source": [
    "# move up into previous code chunk if you want to download the PDFs again\n",
    "# Download PDF(s) if available\n",
    "\n",
    "    canclick = driver.find_element_by_xpath('//*[@id=\"MediaListRepeater_ctl00_MediaHyperLink\"]').get_attribute('onclick')\n",
    "    if (canclick==\"TrackMediaLinkUsage\"):\n",
    "\n",
    "<a href=\"/seagrant_Linked_Documents/oresu/WR-15-001%20Edwards%20(Cone)%20R-S-18-PD%20(poster)%20.pdf\" id=\"MediaListRepeater_ctl00_MediaHyperLink\" class=\"trigger\" title=\"\" target=\"_blank\" onclick=\"TrackMediaLinkUsage('2','view PDF','0','10593614','10593699','1' );\" mediacode=\"10593699\"><img src=\"/EOSWebOPAC/Images/mediatype90X90-2.png\" id=\"MediaListRepeater_ctl00_ImageHolder\" onmouseout=\"ViewDetailMouseOut(this)\" width=\"90\" data-original=\"\" class=\"loading90 thumbNailImages lazy\" height=\"90\" onmouseover=\"ViewDetail('/EOSWebOPAC/Images/mediatype350X350-2.png','view PDF','',' ','0',$(this),10593699)\" style=\"z-index:1;\" alt=\"view PDF\"></a>\n",
    "\n",
    "    # pdf_relative_link is\n",
    "    # '/SEAGRANT_Linked_Documents/scu/USC%20Sea%20Grant%20Newsletter_%c2%a0April%202020.pdf'\n",
    "    grab = driver.page_source\n",
    "    pdf_relative_link = re.findall(\"seagrant_Linked_Documents\\S*.pdf\",grab)\n",
    "    pdflink = 'https://eos.ucs.uri.edu/' + pdf_relative_link\n",
    "    pdf_filename = pdf_relative_link.split('/')[-1]\n",
    "    with open(pdf_filename, 'wb') as f:\n",
    "        f.write(response.content)\n",
    "        f.close()\n"
   ]
  },
  {
   "cell_type": "code",
   "execution_count": null,
   "id": "385fb07b-0021-43a1-88ab-434cf782c769",
   "metadata": {},
   "outputs": [],
   "source": [
    "# This should fire up the headless Chrome browser in another window\n",
    "driver = webdriver.Chrome(ChromeDriverManager().install())\n",
    "driver.implicitly_wait(2) # Crude way to ensure the page has (mostly) loaded before doing anything else."
   ]
  },
  {
   "cell_type": "markdown",
   "id": "ff157aa3-8a70-4e4a-b403-d012143a0383",
   "metadata": {},
   "source": [
    "Now we need to click through all the items for the first 100 search results, then click on the \"next page\" arrow, then resume clicking through items until we hit item 200, then click \"next page\", and so on until we've gone through 62 pages of results (100 items per page). "
   ]
  },
  {
   "cell_type": "code",
   "execution_count": null,
   "id": "e77bf01d-a6d7-4c3d-8bf1-da9b973865da",
   "metadata": {},
   "outputs": [],
   "source": [
    "# I pulled this chunk of text out to another cell so that I can start on whatever \"current_item\" I need to (due to errors in the catalog, etc.) \n",
    "total_items = 6109\n",
    "current_item = 1\n",
    "\n",
    "# Search results URL vvv\n",
    "# NOTE this URL may not work. In that case, go to \"Search the Catalog\" and do a Word(s) search for “california and sea and grant”. Then you can run this cell and it will work.\n",
    "url = 'https://eos.ucs.uri.edu/EOSWebOPAC/OPAC/Search/AdvancedSearch.aspx?TaskCode=739469&TitleListPageSize=100&CatLevel0Value=&CatLevel1Value=&CatLevel2Value=&CatLevel3Value=&CatLevel4Value='\n",
    "driver.get(url)\n",
    "\n",
    "# click on first record in the list of 100 results on first page. After this you will be clicking through item pages. \n",
    "# Comment out this line if you are restarting loop in the middle somewhere. You must be on the record URL you want to start with. \n",
    "first_record = driver.find_element_by_xpath('//*[@id=\"ctl00_webopacContentHolder_SearchTitleListControl_MainRepeater_ctl01_DetailRepeater_ctl01_DetailRow\"]/td/a').click()\n"
   ]
  },
  {
   "cell_type": "code",
   "execution_count": null,
   "id": "38957f4d-78de-44f5-91fc-2c6293c3b6da",
   "metadata": {},
   "outputs": [],
   "source": [
    "# This loops through 6109 results, one item at a time. There is logic for what to do when you hit the bottom of a results page.\n",
    "for current_item in range(current_item,total_items+1):\n",
    "    \n",
    "    grab = driver.page_source\n",
    "\n",
    "    # Zero-pad the search page number (4 digits minimum) when writing the page source\n",
    "    with open(f\"search_results_item_{current_item:04}.html\", \"w\") as outfile:\n",
    "        outfile.write(grab)\n",
    "        \n",
    "    # click the \"down arrow\" to go to the next record in the list of 100 results on this page.\n",
    "    # We need to check to see if the down arrow will function - it won't on the last record.\n",
    "    # Outputs of this attribute check will return \"GetNextTitle();\" when there are more results to show, \n",
    "    # or \"return false;\" when the button does not work (at record 100 on the page)\n",
    "        canclick = driver.find_element_by_xpath('//*[@id=\"ctl00_ctl00_webopacContentHolder_RecordPager_imgGetNext\"]').get_attribute('onclick')\n",
    "    if (canclick==\"GetNextTitle();\"):\n",
    "        \n",
    "        # click the \"down arrow\" to go to the next record in the list of 100 results on this page.\n",
    "        next_record = driver.find_element_by_xpath('//*[@id=\"ctl00_ctl00_webopacContentHolder_RecordPager_imgGetNext\"]')\n",
    "        time.sleep(3) # to be polite\n",
    "        next_record.click()   \n",
    "    \n",
    "    # After the scraper gets to record 100, we need to turn the page by doing a few clicks.\n",
    "    else:\n",
    "        # click the \"Records\" drop-down:\n",
    "        driver.find_element_by_xpath('//*[@id=\"ctl00_ctl00_webopacContentHolder_RecordPager_imgExpandNav\"]').click()\n",
    "\n",
    "        # and then click the \"next\" button:\n",
    "        driver.find_element_by_xpath('//*[@id=\"ctl00_ctl00_webopacContentHolder_RecordPager_NextPage\"]').click()\n",
    "\n",
    "        # and then click the first item in the drop-down list, which I think always has the same ID:\n",
    "        driver.find_element_by_xpath('//*[@id=\"ctl00_ctl00_webopacContentHolder_RecordPager_RecordRepeater_ctl01_ItemAnchor\"]').click()\n",
    "\n",
    "        continue # to the top of the loop for the 100 records on the page\n"
   ]
  },
  {
   "cell_type": "code",
   "execution_count": null,
   "id": "aedebd68-453e-454a-8f04-2468257a526d",
   "metadata": {},
   "outputs": [],
   "source": []
  },
  {
   "cell_type": "markdown",
   "id": "fc48a2b4-47eb-4539-a4d5-ab099e0b8b13",
   "metadata": {},
   "source": [
    "## Literally everything below here is me randomly trying sh*t to see what sticks."
   ]
  },
  {
   "cell_type": "code",
   "execution_count": null,
   "id": "24402212-7a7f-4317-8477-13c393e80b38",
   "metadata": {},
   "outputs": [],
   "source": [
    "url = 'https://eos.ucs.uri.edu/EOSWebOPAC/OPAC/Search/AdvancedSearch.aspx?TaskCode=737107&TitleListPageSize=100&CatLevel0Value=&CatLevel1Value=&CatLevel2Value=&CatLevel3Value=&CatLevel4Value='\n",
    "grab = requests.get(url)\n",
    "soup = BeautifulSoup(grab.text, 'html.parser') # parse text from the html"
   ]
  },
  {
   "cell_type": "code",
   "execution_count": null,
   "id": "44268c1b-1f99-456c-ae98-29ae9a7fea82",
   "metadata": {},
   "outputs": [],
   "source": [
    "TABLE_SELECTOR = \"table.TableCellPadding2Px:nth-child(3) > tbody:nth-child(1)\"\n",
    "\n",
    "#ctl00_webopacContentHolder_SearchTitleListControl_titleListNav1_arrowRight\n",
    "document.querySelector(\"#ctl00_webopacContentHolder_SearchTitleListControl_titleListNav1_arrowRight\") \n",
    "\n",
    "#ctl00_webopacContentHolder_SearchTitleListControl_MainRepeater_ctl01_DetailColumn > table:nth-child(1)\n",
    "\n",
    "#ctl00_webopacContentHolder_SearchTitleListControl_MainRepeater_ctl01_DetailColumn > table:nth-child(1) > tbody:nth-child(1)\n",
    "\n",
    "#ctl00_webopacContentHolder_SearchTitleListControl_MainRepeater_ctl01_DetailRepeater_ctl01_DetailRow "
   ]
  },
  {
   "cell_type": "code",
   "execution_count": null,
   "id": "2eb6b996-f027-4107-a0f6-4db3c7736d52",
   "metadata": {},
   "outputs": [],
   "source": [
    "table_test = soup.find_all('table', class_='DefaultTable')"
   ]
  },
  {
   "cell_type": "code",
   "execution_count": null,
   "id": "fd654103-eedb-420d-9c22-b9159dbf3873",
   "metadata": {},
   "outputs": [],
   "source": [
    "print(table_test)"
   ]
  },
  {
   "cell_type": "code",
   "execution_count": null,
   "id": "95db4127-6248-47ee-8d97-63a68582c5b6",
   "metadata": {},
   "outputs": [],
   "source": [
    "table_test = soup.find_all('tr', class_='HorDisplayAltRow')"
   ]
  },
  {
   "cell_type": "code",
   "execution_count": null,
   "id": "515ec852-865e-4479-bc86-3aa55ea28bec",
   "metadata": {},
   "outputs": [],
   "source": [
    "test = soup.find_all('tbody')"
   ]
  },
  {
   "cell_type": "code",
   "execution_count": null,
   "id": "8811426e-0ea3-49a8-9512-06b48edede33",
   "metadata": {},
   "outputs": [],
   "source": [
    "print(test)"
   ]
  },
  {
   "cell_type": "code",
   "execution_count": null,
   "id": "6b7437fe-8178-4d63-a280-dd9fc1a60655",
   "metadata": {},
   "outputs": [],
   "source": [
    "print(soup.re_compile(\"seagrant_Linked_Documents\"))"
   ]
  },
  {
   "cell_type": "code",
   "execution_count": null,
   "id": "940d8b15-b13b-452e-a257-ce373f6d4483",
   "metadata": {},
   "outputs": [],
   "source": [
    "urls = []\n",
    "for link in soup.find_all('a'):\n",
    "    print(link.get('href'))"
   ]
  },
  {
   "cell_type": "code",
   "execution_count": null,
   "id": "66664305-dd9e-4c43-8a46-4664d76f836c",
   "metadata": {},
   "outputs": [],
   "source": [
    "# opening a file in write mode\n",
    "f = open(\"test1.txt\", \"w\")\n",
    "# traverse paragraphs from soup\n",
    "for link in soup.find_all(\"a\"):\n",
    "   data = link.get('href')\n",
    "   f.write(data)\n",
    "   f.write(\"\\n\")\n",
    " \n",
    "f.close()"
   ]
  },
  {
   "cell_type": "code",
   "execution_count": null,
   "id": "6432d34e-0172-4e27-b08d-4c47c988d601",
   "metadata": {},
   "outputs": [],
   "source": [
    "# traverse paragraphs from soup\n",
    "for link in soup.find_all(\"a\"):\n",
    "   data = link.get('href')\n",
    "   print(data)\n",
    "   "
   ]
  },
  {
   "cell_type": "code",
   "execution_count": null,
   "id": "a648b411-8d9c-4cb4-8209-44a8aefdf3ee",
   "metadata": {},
   "outputs": [],
   "source": []
  }
 ],
 "metadata": {
  "kernelspec": {
   "display_name": "Python 3",
   "language": "python",
   "name": "python3"
  },
  "language_info": {
   "codemirror_mode": {
    "name": "ipython",
    "version": 3
   },
   "file_extension": ".py",
   "mimetype": "text/x-python",
   "name": "python",
   "nbconvert_exporter": "python",
   "pygments_lexer": "ipython3",
   "version": "3.9.12"
  }
 },
 "nbformat": 4,
 "nbformat_minor": 5
}
